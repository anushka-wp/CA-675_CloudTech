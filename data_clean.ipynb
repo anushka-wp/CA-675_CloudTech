{
 "cells": [
  {
   "cell_type": "code",
   "execution_count": 36,
   "metadata": {},
   "outputs": [],
   "source": [
    "import pandas as pd \n",
    "csv =\"https://drive.google.com/uc?export=download&id=16B3gWvn1HpVko8ohZ5gtNHJPpRszMkUA\"\n",
    "df=pd.read_csv(csv) "
   ]
  },
  {
   "cell_type": "code",
   "execution_count": 37,
   "metadata": {},
   "outputs": [
    {
     "data": {
      "text/html": [
       "<div>\n",
       "<style scoped>\n",
       "    .dataframe tbody tr th:only-of-type {\n",
       "        vertical-align: middle;\n",
       "    }\n",
       "\n",
       "    .dataframe tbody tr th {\n",
       "        vertical-align: top;\n",
       "    }\n",
       "\n",
       "    .dataframe thead th {\n",
       "        text-align: right;\n",
       "    }\n",
       "</style>\n",
       "<table border=\"1\" class=\"dataframe\">\n",
       "  <thead>\n",
       "    <tr style=\"text-align: right;\">\n",
       "      <th></th>\n",
       "      <th>Id</th>\n",
       "      <th>PostTypeId</th>\n",
       "      <th>AcceptedAnswerId</th>\n",
       "      <th>ParentId</th>\n",
       "      <th>CreationDate</th>\n",
       "      <th>DeletionDate</th>\n",
       "      <th>Score</th>\n",
       "      <th>ViewCount</th>\n",
       "      <th>Body</th>\n",
       "      <th>OwnerUserId</th>\n",
       "      <th>...</th>\n",
       "      <th>LastAccessDate</th>\n",
       "      <th>WebsiteUrl</th>\n",
       "      <th>Location</th>\n",
       "      <th>AboutMe</th>\n",
       "      <th>Views</th>\n",
       "      <th>UpVotes</th>\n",
       "      <th>DownVotes</th>\n",
       "      <th>ProfileImageUrl</th>\n",
       "      <th>EmailHash</th>\n",
       "      <th>AccountId</th>\n",
       "    </tr>\n",
       "  </thead>\n",
       "  <tbody>\n",
       "    <tr>\n",
       "      <td>0</td>\n",
       "      <td>3381047</td>\n",
       "      <td>1</td>\n",
       "      <td>3381144.0</td>\n",
       "      <td>NaN</td>\n",
       "      <td>2010-08-01 06:45:18</td>\n",
       "      <td>NaN</td>\n",
       "      <td>3</td>\n",
       "      <td>52109</td>\n",
       "      <td>&lt;p&gt;I'm trying to have different pictures on ev...</td>\n",
       "      <td>381798</td>\n",
       "      <td>...</td>\n",
       "      <td>2017-11-05 21:17:39</td>\n",
       "      <td>http://shavitamit.github.io</td>\n",
       "      <td>Boston, MA, United States</td>\n",
       "      <td>&lt;p&gt;Please check out my &lt;a href=\"http://shavita...</td>\n",
       "      <td>726</td>\n",
       "      <td>243</td>\n",
       "      <td>23</td>\n",
       "      <td>NaN</td>\n",
       "      <td>NaN</td>\n",
       "      <td>161213</td>\n",
       "    </tr>\n",
       "  </tbody>\n",
       "</table>\n",
       "<p>1 rows × 37 columns</p>\n",
       "</div>"
      ],
      "text/plain": [
       "        Id  PostTypeId  AcceptedAnswerId  ParentId         CreationDate  \\\n",
       "0  3381047           1         3381144.0       NaN  2010-08-01 06:45:18   \n",
       "\n",
       "   DeletionDate  Score  ViewCount  \\\n",
       "0           NaN      3      52109   \n",
       "\n",
       "                                                Body  OwnerUserId  ...  \\\n",
       "0  <p>I'm trying to have different pictures on ev...       381798  ...   \n",
       "\n",
       "        LastAccessDate                   WebsiteUrl  \\\n",
       "0  2017-11-05 21:17:39  http://shavitamit.github.io   \n",
       "\n",
       "                    Location  \\\n",
       "0  Boston, MA, United States   \n",
       "\n",
       "                                             AboutMe Views UpVotes DownVotes  \\\n",
       "0  <p>Please check out my <a href=\"http://shavita...   726     243        23   \n",
       "\n",
       "   ProfileImageUrl  EmailHash  AccountId  \n",
       "0              NaN        NaN     161213  \n",
       "\n",
       "[1 rows x 37 columns]"
      ]
     },
     "execution_count": 37,
     "metadata": {},
     "output_type": "execute_result"
    }
   ],
   "source": [
    "df.head(1)"
   ]
  },
  {
   "cell_type": "code",
   "execution_count": 38,
   "metadata": {},
   "outputs": [],
   "source": [
    "drop_columns = [1,3, 4, 5, 13, 14, 20, 21, 25, 27]\n",
    "df.drop(df.columns[drop_columns], axis=1, inplace=True)\n",
    "\n",
    "df['Body'] = df['Body'].str.replace(r'<[^<>]*>', '', regex=True)\n",
    "df[\"Body\"] = df['Body'].str.replace('[^\\w\\s]','', regex=True)\n",
    "df[\"Body\"] = df['Body'].str.replace('[^a-zA-Z]', ' ', regex=True)\n",
    "df[\"Body\"] = df['Body'].replace(r'\\n',' ', regex=True)"
   ]
  },
  {
   "cell_type": "code",
   "execution_count": 39,
   "metadata": {},
   "outputs": [],
   "source": [
    "df.to_csv('data_4_final.csv',index=False,encoding='utf-8')"
   ]
  }
 ],
 "metadata": {
  "kernelspec": {
   "display_name": "Python 3",
   "language": "python",
   "name": "python3"
  },
  "language_info": {
   "codemirror_mode": {
    "name": "ipython",
    "version": 3
   },
   "file_extension": ".py",
   "mimetype": "text/x-python",
   "name": "python",
   "nbconvert_exporter": "python",
   "pygments_lexer": "ipython3",
   "version": "3.7.4"
  }
 },
 "nbformat": 4,
 "nbformat_minor": 2
}
